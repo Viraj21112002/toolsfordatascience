{
  "nbformat": 4,
  "nbformat_minor": 0,
  "metadata": {
    "colab": {
      "provenance": []
    },
    "kernelspec": {
      "name": "python3",
      "display_name": "Python 3"
    },
    "language_info": {
      "name": "python"
    }
  },
  "cells": [
    {
      "cell_type": "markdown",
      "source": [
        "<h1>Data Science Tools and Ecosystem</h1>"
      ],
      "metadata": {
        "id": "a6ikyLyt1DMI"
      }
    },
    {
      "cell_type": "markdown",
      "source": [
        "In this notebook, Data Science Tools and Ecosystem are summarized."
      ],
      "metadata": {
        "id": "p4LukFtc1aSo"
      }
    },
    {
      "cell_type": "markdown",
      "source": [
        "Some of the popular languages that Data Scientists use are:\n",
        "\n",
        "\n",
        "1.   Python\n",
        "2.   R\n",
        "3.   Java\n",
        "\n"
      ],
      "metadata": {
        "id": "8XvRPKTo1m6p"
      }
    },
    {
      "cell_type": "markdown",
      "source": [
        "Some of the commonly used libraries used by Data Scientists include:\n",
        "\n",
        "\n",
        "1.   Pandas\n",
        "2.   Numpy\n",
        "3.   Matplotlib\n",
        "4.   Seaborn\n",
        "\n"
      ],
      "metadata": {
        "id": "BP-WIfgx2JLe"
      }
    },
    {
      "cell_type": "markdown",
      "source": [
        "Data Science Tools | Order\n",
        "--- | ---\n",
        "Github` | 1\n",
        "Anaconda | 2\n",
        "Jupyter Notebook | 3"
      ],
      "metadata": {
        "id": "Ry-gMAzW2fl7"
      }
    },
    {
      "cell_type": "markdown",
      "source": [
        "<h3>Below are a few examples of evaluating arithmetic expressions in Python</h3>"
      ],
      "metadata": {
        "id": "2xdnmZ6G4Dho"
      }
    },
    {
      "cell_type": "code",
      "source": [
        "#This a simple arithmetic expression to mutiply then add integers\n",
        "(3*4)+5"
      ],
      "metadata": {
        "colab": {
          "base_uri": "https://localhost:8080/"
        },
        "id": "PnVu3G5F4U4_",
        "outputId": "9e242e39-de7c-40d8-9c00-61dba3148e6a"
      },
      "execution_count": 1,
      "outputs": [
        {
          "output_type": "execute_result",
          "data": {
            "text/plain": [
              "17"
            ]
          },
          "metadata": {},
          "execution_count": 1
        }
      ]
    },
    {
      "cell_type": "code",
      "source": [
        "#This will convert 200 minutes to hours by diving by 60\n",
        "200/60"
      ],
      "metadata": {
        "colab": {
          "base_uri": "https://localhost:8080/"
        },
        "id": "YFA8sR0j4r00",
        "outputId": "905f39c0-e472-41bc-d528-afe1a86b13d3"
      },
      "execution_count": 2,
      "outputs": [
        {
          "output_type": "execute_result",
          "data": {
            "text/plain": [
              "3.3333333333333335"
            ]
          },
          "metadata": {},
          "execution_count": 2
        }
      ]
    },
    {
      "cell_type": "markdown",
      "source": [
        "**Objectives:**"
      ],
      "metadata": {
        "id": "PEMKK_9G5CbI"
      }
    },
    {
      "cell_type": "markdown",
      "source": [
        "\n",
        "\n",
        "*   List Popular languages in Python\n",
        "*   List Popular libraries in Python\n",
        "*   Use of Arithmetic Expressions\n",
        "\n"
      ],
      "metadata": {
        "id": "R-VJy6Pr5KjJ"
      }
    },
    {
      "cell_type": "markdown",
      "source": [
        "<h2>Authors</h2>\n",
        "Viraj Parab"
      ],
      "metadata": {
        "id": "s9vtq3OI5iqJ"
      }
    }
  ]
}